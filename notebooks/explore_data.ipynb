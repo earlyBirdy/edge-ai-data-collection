{
 "cells": [
  {
   "cell_type": "markdown",
   "id": "7be346a9",
   "metadata": {},
   "source": [
    "# Edge AI Data Exploration Notebook\n",
    "\n",
    "This Jupyter Notebook demonstrates how to read **all supported Edge AI data formats**:\n",
    "\n",
    "- JSONL / JSON\n",
    "- Parquet\n",
    "- Avro\n",
    "- Protobuf\n",
    "- Log files\n",
    "\n",
    "It uses open-source Python libraries (`pandas`, `pyarrow`/`fastparquet`, `fastavro`, `protobuf`) to provide a unified view of the data.\n"
   ]
  },
  {
   "cell_type": "markdown",
   "id": "2569e50e",
   "metadata": {},
   "source": [
    "## Read JSONL"
   ]
  },
  {
   "cell_type": "code",
   "execution_count": null,
   "id": "349da37c",
   "metadata": {},
   "outputs": [],
   "source": [
    "import json\n",
    "import pandas as pd\n",
    "from pathlib import Path\n",
    "\n",
    "jsonl_path = Path(\"data/samples/hot/temperature\") / next(Path(\"data/samples/hot/temperature\").rglob(\"*.jsonl\")).name\n",
    "\n",
    "print(\"Reading JSONL from:\", jsonl_path)\n",
    "\n",
    "records = []\n",
    "with open(jsonl_path) as f:\n",
    "    for line in f:\n",
    "        if line.strip():\n",
    "            records.append(json.loads(line))\n",
    "\n",
    "df_jsonl = pd.DataFrame(records)\n",
    "df_jsonl.head()\n"
   ]
  },
  {
   "cell_type": "markdown",
   "id": "c11a01bb",
   "metadata": {},
   "source": [
    "## Read Parquet"
   ]
  },
  {
   "cell_type": "code",
   "execution_count": null,
   "id": "0615f7a8",
   "metadata": {},
   "outputs": [],
   "source": [
    "import pandas as pd\n",
    "\n",
    "parquet_path = list(Path(\"data/samples/batch\").rglob(\"*.parquet\"))[0]\n",
    "print(\"Reading Parquet from:\", parquet_path)\n",
    "\n",
    "try:\n",
    "    df_parquet = pd.read_parquet(parquet_path)\n",
    "    display(df_parquet.head())\n",
    "except Exception as e:\n",
    "    print(\"Parquet read failed (engine missing):\", e)\n"
   ]
  },
  {
   "cell_type": "markdown",
   "id": "807a2fbf",
   "metadata": {},
   "source": [
    "## Validate against Avro Schema"
   ]
  },
  {
   "cell_type": "code",
   "execution_count": null,
   "id": "fffa5c8e",
   "metadata": {},
   "outputs": [],
   "source": [
    "import fastavro\n",
    "\n",
    "avro_schema_path = Path(\"schema/temperature.avsc\")\n",
    "schema = None\n",
    "with open(avro_schema_path) as f:\n",
    "    import json\n",
    "    schema = json.load(f)\n",
    "\n",
    "print(\"Loaded Avro schema:\", avro_schema_path)\n",
    "\n",
    "# Example: validate records\n",
    "for rec in df_jsonl.to_dict(orient=\"records\"):\n",
    "    fastavro.validation.validate(rec, schema)\n",
    "print(\"Validation passed for JSONL records against Avro schema\")\n"
   ]
  },
  {
   "cell_type": "markdown",
   "id": "72ecbcc5",
   "metadata": {},
   "source": [
    "## Inspect Protobuf Schema"
   ]
  },
  {
   "cell_type": "code",
   "execution_count": null,
   "id": "7bf51f36",
   "metadata": {},
   "outputs": [],
   "source": [
    "\n",
    "# Load .proto definition manually (simple)\n",
    "proto_file = Path(\"proto/temperature.proto\")\n",
    "print(\"Proto file at:\", proto_file)\n",
    "\n",
    "print(proto_file.read_text())\n"
   ]
  },
  {
   "cell_type": "markdown",
   "id": "6e0e35e6",
   "metadata": {},
   "source": [
    "## Read Ops Log"
   ]
  },
  {
   "cell_type": "code",
   "execution_count": null,
   "id": "ebb9e578",
   "metadata": {},
   "outputs": [],
   "source": [
    "ops_log_path = list(Path(\"data/samples/hot/ops\").rglob(\"*.log\"))[0]\n",
    "print(\"Reading log file:\", ops_log_path)\n",
    "with open(ops_log_path) as f:\n",
    "    for line in f.readlines():\n",
    "        print(line.strip())\n"
   ]
  }
 ],
 "metadata": {},
 "nbformat": 4,
 "nbformat_minor": 5
}
