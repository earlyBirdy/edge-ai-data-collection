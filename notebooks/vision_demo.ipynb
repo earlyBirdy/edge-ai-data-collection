{
  "nbformat": 4,
  "nbformat_minor": 5,
  "metadata": {
    "kernelspec": {
      "display_name": "Python 3",
      "language": "python",
      "name": "python3"
    }
  },
  "cells": [
    {
      "cell_type": "markdown",
      "metadata": {},
      "source": [
        "# Vision Demo\n",
        "Image & video recognition with ONNX Runtime (optional) and OpenCV.\n"
      ]
    },
    {
      "cell_type": "code",
      "metadata": {},
      "source": [
        "from pathlib import Path\n",
        "import json, glob, os\n",
        "from PIL import Image\n",
        "BASE = Path('..').resolve().parent if (Path.cwd().name == 'notebooks') else Path('.')\n",
        "print('BASE:', BASE)\n",
        "img_dir = BASE / 'data' / 'media' / 'images'\n",
        "list(img_dir.glob('*.png'))[:5]"
      ],
      "outputs": [],
      "execution_count": null
    },
    {
      "cell_type": "code",
      "metadata": {},
      "source": [
        "!python -m vision.pipelines.image_recognition --input ./data/media/images --out ./data/samples/hot/vision"
      ],
      "outputs": [],
      "execution_count": null
    },
    {
      "cell_type": "code",
      "metadata": {},
      "source": [
        "list(Path('./data/samples/hot/vision').glob('vision-detections-*.jsonl'))[:3]"
      ],
      "outputs": [],
      "execution_count": null
    },
    {
      "cell_type": "markdown",
      "metadata": {},
      "source": [
        "For video, place an `mp4` in `data/media/video/` then run:"
      ]
    },
    {
      "cell_type": "code",
      "metadata": {},
      "source": [
        "!python -m vision.pipelines.video_recognition --input ./data/media/video/sample.mp4 --out ./data/samples/hot/vision --every_ms 500"
      ],
      "outputs": [],
      "execution_count": null
    }
  ]
}